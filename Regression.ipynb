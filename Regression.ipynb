{
 "cells": [
  {
   "cell_type": "markdown",
   "metadata": {},
   "source": [
    "# Regression Project\n",
    "\n",
    "__All the tasks have been implemented and comments for each task has been added right below each plot__\n",
    "\n",
    "__Code, Results and Conclusions have been added below__"
   ]
  },
  {
   "cell_type": "code",
   "execution_count": 1,
   "metadata": {},
   "outputs": [],
   "source": [
    "import pandas as pd\n",
    "import seaborn as sns\n",
    "from scipy.stats import chi2\n",
    "import numpy as np\n",
    "from sklearn.linear_model import LinearRegression\n",
    "from sklearn.metrics import mean_squared_error, r2_score \n",
    "import matplotlib.pyplot as plt\n",
    "import statsmodels.api as sm\n",
    "from sklearn.preprocessing import PolynomialFeatures"
   ]
  },
  {
   "cell_type": "code",
   "execution_count": 2,
   "metadata": {},
   "outputs": [],
   "source": [
    "vals = pd.read_csv(\"20.csv\", header=None)\n",
    "vals = vals.rename(columns={0:1, 1:2, 2:3, 3:4, 4:5, 5:6})"
   ]
  },
  {
   "cell_type": "code",
   "execution_count": 3,
   "metadata": {},
   "outputs": [
    {
     "data": {
      "text/html": [
       "<div>\n",
       "<style scoped>\n",
       "    .dataframe tbody tr th:only-of-type {\n",
       "        vertical-align: middle;\n",
       "    }\n",
       "\n",
       "    .dataframe tbody tr th {\n",
       "        vertical-align: top;\n",
       "    }\n",
       "\n",
       "    .dataframe thead th {\n",
       "        text-align: right;\n",
       "    }\n",
       "</style>\n",
       "<table border=\"1\" class=\"dataframe\">\n",
       "  <thead>\n",
       "    <tr style=\"text-align: right;\">\n",
       "      <th></th>\n",
       "      <th>1</th>\n",
       "      <th>2</th>\n",
       "      <th>3</th>\n",
       "      <th>4</th>\n",
       "      <th>5</th>\n",
       "      <th>6</th>\n",
       "    </tr>\n",
       "  </thead>\n",
       "  <tbody>\n",
       "    <tr>\n",
       "      <th>0</th>\n",
       "      <td>17.8480</td>\n",
       "      <td>34.462</td>\n",
       "      <td>98.819</td>\n",
       "      <td>82.575</td>\n",
       "      <td>133.250</td>\n",
       "      <td>2432.7</td>\n",
       "    </tr>\n",
       "    <tr>\n",
       "      <th>1</th>\n",
       "      <td>29.8420</td>\n",
       "      <td>43.615</td>\n",
       "      <td>90.143</td>\n",
       "      <td>102.390</td>\n",
       "      <td>113.910</td>\n",
       "      <td>3234.9</td>\n",
       "    </tr>\n",
       "    <tr>\n",
       "      <th>2</th>\n",
       "      <td>8.0611</td>\n",
       "      <td>68.692</td>\n",
       "      <td>96.169</td>\n",
       "      <td>121.720</td>\n",
       "      <td>125.940</td>\n",
       "      <td>2369.9</td>\n",
       "    </tr>\n",
       "    <tr>\n",
       "      <th>3</th>\n",
       "      <td>31.2800</td>\n",
       "      <td>50.810</td>\n",
       "      <td>83.051</td>\n",
       "      <td>113.600</td>\n",
       "      <td>139.110</td>\n",
       "      <td>3651.8</td>\n",
       "    </tr>\n",
       "    <tr>\n",
       "      <th>4</th>\n",
       "      <td>-19.1710</td>\n",
       "      <td>25.349</td>\n",
       "      <td>75.775</td>\n",
       "      <td>102.530</td>\n",
       "      <td>91.186</td>\n",
       "      <td>2141.4</td>\n",
       "    </tr>\n",
       "  </tbody>\n",
       "</table>\n",
       "</div>"
      ],
      "text/plain": [
       "         1       2       3        4        5       6\n",
       "0  17.8480  34.462  98.819   82.575  133.250  2432.7\n",
       "1  29.8420  43.615  90.143  102.390  113.910  3234.9\n",
       "2   8.0611  68.692  96.169  121.720  125.940  2369.9\n",
       "3  31.2800  50.810  83.051  113.600  139.110  3651.8\n",
       "4 -19.1710  25.349  75.775  102.530   91.186  2141.4"
      ]
     },
     "execution_count": 3,
     "metadata": {},
     "output_type": "execute_result"
    }
   ],
   "source": [
    "vals.head()"
   ]
  },
  {
   "cell_type": "markdown",
   "metadata": {},
   "source": [
    "# Task 1\n",
    "\n",
    "## Task 1.1\n",
    "\n",
    "Leveraging the numpy library, we can compute the histogram, mean and variance for each of the variables.\n",
    "\n",
    "Just by looking at this information, it is hard to understand if there is any correlation between the data points. Lus us plot the histograms to see if we can notice anything."
   ]
  },
  {
   "cell_type": "code",
   "execution_count": 4,
   "metadata": {},
   "outputs": [
    {
     "name": "stdout",
     "output_type": "stream",
     "text": [
      "X1\n"
     ]
    },
    {
     "data": {
      "image/png": "[encoded data removed]",
      "text/plain": [
       "<Figure size 432x288 with 1 Axes>"
      ]
     },
     "metadata": {
      "needs_background": "light"
     },
     "output_type": "display_data"
    },
    {
     "name": "stdout",
     "output_type": "stream",
     "text": [
      "Histogram (array([ 1,  0,  4, 24, 36, 71, 72, 56, 27,  9]), array([-46.632 , -36.4179, -26.2038, -15.9897,  -5.7756,   4.4385,\n",
      "        14.6526,  24.8667,  35.0808,  45.2949,  55.509 ]))\n",
      "Mean 16.56183533333333\n",
      "Variance 252.7391902877334\n",
      "\n",
      "X2\n"
     ]
    },
    {
     "data": {
      "image/png": "[encoded data removed]",
      "text/plain": [
       "<Figure size 432x288 with 1 Axes>"
      ]
     },
     "metadata": {
      "needs_background": "light"
     },
     "output_type": "display_data"
    },
    {
     "name": "stdout",
     "output_type": "stream",
     "text": [
      "Histogram (array([ 2,  5, 27, 46, 58, 63, 62, 24, 11,  2]), array([-2.7117 ,  6.02647, 14.76464, 23.50281, 32.24098, 40.97915,\n",
      "       49.71732, 58.45549, 67.19366, 75.93183, 84.67   ]))\n",
      "Mean 42.03563866666664\n",
      "Variance 226.78182201163818\n",
      "\n",
      "X3\n"
     ]
    },
    {
     "data": {
      "image/png": "[encoded data removed]",
      "text/plain": [
       "<Figure size 432x288 with 1 Axes>"
      ]
     },
     "metadata": {
      "needs_background": "light"
     },
     "output_type": "display_data"
    },
    {
     "name": "stdout",
     "output_type": "stream",
     "text": [
      "Histogram (array([ 2,  4, 20, 54, 66, 73, 52, 20,  7,  2]), array([ 42.53 ,  51.686,  60.842,  69.998,  79.154,  88.31 ,  97.466,\n",
      "       106.622, 115.778, 124.934, 134.09 ]))\n",
      "Mean 88.48789333333333\n",
      "Variance 201.55060124862212\n",
      "\n",
      "X4\n"
     ]
    },
    {
     "data": {
      "image/png": "[encoded data removed]",
      "text/plain": [
       "<Figure size 432x288 with 1 Axes>"
      ]
     },
     "metadata": {
      "needs_background": "light"
     },
     "output_type": "display_data"
    },
    {
     "name": "stdout",
     "output_type": "stream",
     "text": [
      "Histogram (array([ 5, 11, 35, 54, 54, 56, 50, 21,  9,  5]), array([ 61.164 ,  69.4646,  77.7652,  86.0658,  94.3664, 102.667 ,\n",
      "       110.9676, 119.2682, 127.5688, 135.8694, 144.17  ]))\n",
      "Mean 101.03176666666663\n",
      "Variance 234.47553875888877\n",
      "\n",
      "X5\n"
     ]
    },
    {
     "data": {
      "image/png": "[encoded data removed]",
      "text/plain": [
       "<Figure size 432x288 with 1 Axes>"
      ]
     },
     "metadata": {
      "needs_background": "light"
     },
     "output_type": "display_data"
    },
    {
     "name": "stdout",
     "output_type": "stream",
     "text": [
      "Histogram (array([ 2,  7, 11, 38, 61, 73, 63, 26, 17,  2]), array([ 77.578 ,  86.2912,  95.0044, 103.7176, 112.4308, 121.144 ,\n",
      "       129.8572, 138.5704, 147.2836, 155.9968, 164.71  ]))\n",
      "Mean 124.30912999999998\n",
      "Variance 208.21620801310016\n",
      "\n"
     ]
    }
   ],
   "source": [
    "for i in range(1, 6):\n",
    "    print(f\"X{i}\")\n",
    "    plt.hist(vals[i])\n",
    "    plt.show()\n",
    "    print(\"Histogram\", np.histogram(vals[i]))\n",
    "    print(\"Mean\", np.mean(vals[i]))\n",
    "    print(\"Variance\", np.var(vals[i]))\n",
    "    print()"
   ]
  },
  {
   "cell_type": "markdown",
   "metadata": {},
   "source": [
    "From looking at the histograms we notice that each feature vector is different from on another as there is minimal overlap present\n",
    "\n",
    "## Task 1.2"
   ]
  },
  {
   "cell_type": "code",
   "execution_count": 5,
   "metadata": {},
   "outputs": [
    {
     "data": {
      "text/plain": [
       "<matplotlib.axes._subplots.AxesSubplot at 0x7ff4b96acf70>"
      ]
     },
     "execution_count": 5,
     "metadata": {},
     "output_type": "execute_result"
    },
    {
     "data": {
      "image/png": "[encoded data removed]",
      "text/plain": [
       "<Figure size 432x288 with 1 Axes>"
      ]
     },
     "metadata": {
      "needs_background": "light"
     },
     "output_type": "display_data"
    }
   ],
   "source": [
    "sns.boxplot(x=vals[1])"
   ]
  },
  {
   "cell_type": "markdown",
   "metadata": {},
   "source": [
    "There exists one outlier. We now compare the correlation values generated with and without the outlier. On furhter study we notice that there is a higher correlation when removing the outlier after outlier analysis.\n",
    "\n",
    "Corr value of X1 with X6 changes from 0.77 to 0.86"
   ]
  },
  {
   "cell_type": "code",
   "execution_count": 6,
   "metadata": {},
   "outputs": [
    {
     "data": {
      "text/html": [
       "<div>\n",
       "<style scoped>\n",
       "    .dataframe tbody tr th:only-of-type {\n",
       "        vertical-align: middle;\n",
       "    }\n",
       "\n",
       "    .dataframe tbody tr th {\n",
       "        vertical-align: top;\n",
       "    }\n",
       "\n",
       "    .dataframe thead th {\n",
       "        text-align: right;\n",
       "    }\n",
       "</style>\n",
       "<table border=\"1\" class=\"dataframe\">\n",
       "  <thead>\n",
       "    <tr style=\"text-align: right;\">\n",
       "      <th></th>\n",
       "      <th>1</th>\n",
       "      <th>2</th>\n",
       "      <th>3</th>\n",
       "      <th>4</th>\n",
       "      <th>5</th>\n",
       "      <th>6</th>\n",
       "    </tr>\n",
       "  </thead>\n",
       "  <tbody>\n",
       "    <tr>\n",
       "      <th>1</th>\n",
       "      <td>1.000000</td>\n",
       "      <td>0.011474</td>\n",
       "      <td>0.094910</td>\n",
       "      <td>0.054680</td>\n",
       "      <td>0.051745</td>\n",
       "      <td>0.777981</td>\n",
       "    </tr>\n",
       "    <tr>\n",
       "      <th>2</th>\n",
       "      <td>0.011474</td>\n",
       "      <td>1.000000</td>\n",
       "      <td>0.030394</td>\n",
       "      <td>0.044311</td>\n",
       "      <td>-0.034062</td>\n",
       "      <td>0.014242</td>\n",
       "    </tr>\n",
       "    <tr>\n",
       "      <th>3</th>\n",
       "      <td>0.094910</td>\n",
       "      <td>0.030394</td>\n",
       "      <td>1.000000</td>\n",
       "      <td>0.018996</td>\n",
       "      <td>0.005456</td>\n",
       "      <td>0.199012</td>\n",
       "    </tr>\n",
       "    <tr>\n",
       "      <th>4</th>\n",
       "      <td>0.054680</td>\n",
       "      <td>0.044311</td>\n",
       "      <td>0.018996</td>\n",
       "      <td>1.000000</td>\n",
       "      <td>0.049277</td>\n",
       "      <td>0.169623</td>\n",
       "    </tr>\n",
       "    <tr>\n",
       "      <th>5</th>\n",
       "      <td>0.051745</td>\n",
       "      <td>-0.034062</td>\n",
       "      <td>0.005456</td>\n",
       "      <td>0.049277</td>\n",
       "      <td>1.000000</td>\n",
       "      <td>0.112631</td>\n",
       "    </tr>\n",
       "    <tr>\n",
       "      <th>6</th>\n",
       "      <td>0.777981</td>\n",
       "      <td>0.014242</td>\n",
       "      <td>0.199012</td>\n",
       "      <td>0.169623</td>\n",
       "      <td>0.112631</td>\n",
       "      <td>1.000000</td>\n",
       "    </tr>\n",
       "  </tbody>\n",
       "</table>\n",
       "</div>"
      ],
      "text/plain": [
       "          1         2         3         4         5         6\n",
       "1  1.000000  0.011474  0.094910  0.054680  0.051745  0.777981\n",
       "2  0.011474  1.000000  0.030394  0.044311 -0.034062  0.014242\n",
       "3  0.094910  0.030394  1.000000  0.018996  0.005456  0.199012\n",
       "4  0.054680  0.044311  0.018996  1.000000  0.049277  0.169623\n",
       "5  0.051745 -0.034062  0.005456  0.049277  1.000000  0.112631\n",
       "6  0.777981  0.014242  0.199012  0.169623  0.112631  1.000000"
      ]
     },
     "execution_count": 6,
     "metadata": {},
     "output_type": "execute_result"
    }
   ],
   "source": [
    "vals.corr()"
   ]
  },
  {
   "cell_type": "code",
   "execution_count": 7,
   "metadata": {},
   "outputs": [],
   "source": [
    "vals = vals[vals[1] > -20]"
   ]
  },
  {
   "cell_type": "code",
   "execution_count": 8,
   "metadata": {},
   "outputs": [
    {
     "data": {
      "text/plain": [
       "<matplotlib.axes._subplots.AxesSubplot at 0x7ff4b9ad8a00>"
      ]
     },
     "execution_count": 8,
     "metadata": {},
     "output_type": "execute_result"
    },
    {
     "data": {
      "image/png": "[encoded data removed]",
      "text/plain": [
       "<Figure size 432x288 with 1 Axes>"
      ]
     },
     "metadata": {
      "needs_background": "light"
     },
     "output_type": "display_data"
    }
   ],
   "source": [
    "sns.boxplot(x=vals[1])"
   ]
  },
  {
   "cell_type": "markdown",
   "metadata": {},
   "source": [
    "The box plot is used to identify outliers in data. From the data presented to me for X0, we notice that there is a single data point that may be considered as an outlier when applying regression. But in polynomial regression we notice outlier is infact not an outlier hence we keep the data point"
   ]
  },
  {
   "cell_type": "code",
   "execution_count": 9,
   "metadata": {},
   "outputs": [
    {
     "data": {
      "text/html": [
       "<div>\n",
       "<style scoped>\n",
       "    .dataframe tbody tr th:only-of-type {\n",
       "        vertical-align: middle;\n",
       "    }\n",
       "\n",
       "    .dataframe tbody tr th {\n",
       "        vertical-align: top;\n",
       "    }\n",
       "\n",
       "    .dataframe thead th {\n",
       "        text-align: right;\n",
       "    }\n",
       "</style>\n",
       "<table border=\"1\" class=\"dataframe\">\n",
       "  <thead>\n",
       "    <tr style=\"text-align: right;\">\n",
       "      <th></th>\n",
       "      <th>1</th>\n",
       "      <th>2</th>\n",
       "      <th>3</th>\n",
       "      <th>4</th>\n",
       "      <th>5</th>\n",
       "      <th>6</th>\n",
       "    </tr>\n",
       "  </thead>\n",
       "  <tbody>\n",
       "    <tr>\n",
       "      <th>1</th>\n",
       "      <td>1.000000</td>\n",
       "      <td>0.016331</td>\n",
       "      <td>0.112857</td>\n",
       "      <td>0.025324</td>\n",
       "      <td>0.059411</td>\n",
       "      <td>0.861845</td>\n",
       "    </tr>\n",
       "    <tr>\n",
       "      <th>2</th>\n",
       "      <td>0.016331</td>\n",
       "      <td>1.000000</td>\n",
       "      <td>0.036456</td>\n",
       "      <td>0.048816</td>\n",
       "      <td>-0.035017</td>\n",
       "      <td>0.023592</td>\n",
       "    </tr>\n",
       "    <tr>\n",
       "      <th>3</th>\n",
       "      <td>0.112857</td>\n",
       "      <td>0.036456</td>\n",
       "      <td>1.000000</td>\n",
       "      <td>0.022022</td>\n",
       "      <td>0.005350</td>\n",
       "      <td>0.190615</td>\n",
       "    </tr>\n",
       "    <tr>\n",
       "      <th>4</th>\n",
       "      <td>0.025324</td>\n",
       "      <td>0.048816</td>\n",
       "      <td>0.022022</td>\n",
       "      <td>1.000000</td>\n",
       "      <td>0.051214</td>\n",
       "      <td>0.180781</td>\n",
       "    </tr>\n",
       "    <tr>\n",
       "      <th>5</th>\n",
       "      <td>0.059411</td>\n",
       "      <td>-0.035017</td>\n",
       "      <td>0.005350</td>\n",
       "      <td>0.051214</td>\n",
       "      <td>1.000000</td>\n",
       "      <td>0.112870</td>\n",
       "    </tr>\n",
       "    <tr>\n",
       "      <th>6</th>\n",
       "      <td>0.861845</td>\n",
       "      <td>0.023592</td>\n",
       "      <td>0.190615</td>\n",
       "      <td>0.180781</td>\n",
       "      <td>0.112870</td>\n",
       "      <td>1.000000</td>\n",
       "    </tr>\n",
       "  </tbody>\n",
       "</table>\n",
       "</div>"
      ],
      "text/plain": [
       "          1         2         3         4         5         6\n",
       "1  1.000000  0.016331  0.112857  0.025324  0.059411  0.861845\n",
       "2  0.016331  1.000000  0.036456  0.048816 -0.035017  0.023592\n",
       "3  0.112857  0.036456  1.000000  0.022022  0.005350  0.190615\n",
       "4  0.025324  0.048816  0.022022  1.000000  0.051214  0.180781\n",
       "5  0.059411 -0.035017  0.005350  0.051214  1.000000  0.112870\n",
       "6  0.861845  0.023592  0.190615  0.180781  0.112870  1.000000"
      ]
     },
     "execution_count": 9,
     "metadata": {},
     "output_type": "execute_result"
    }
   ],
   "source": [
    "vals.corr()"
   ]
  },
  {
   "cell_type": "markdown",
   "metadata": {},
   "source": [
    "When we look at the correlation values of each with \"Y\", we notice that the correlation value of 0.86 (X1) is closest to 1 making it a positive correlation and also making it the best feature to perform regression with.\n",
    "\n",
    "One other thing to note from the graph is X2 has the least correlation."
   ]
  },
  {
   "cell_type": "code",
   "execution_count": 10,
   "metadata": {},
   "outputs": [
    {
     "data": {
      "text/plain": [
       "0.7427770987242022"
      ]
     },
     "execution_count": 10,
     "metadata": {},
     "output_type": "execute_result"
    }
   ],
   "source": [
    "y = vals[6]\n",
    "task2_X = vals.drop([2,3,4,5,6], axis = 1)\n",
    "reg2 = LinearRegression()\n",
    "reg2.fit(task2_X, y)\n",
    "reg2.score(task2_X, y)"
   ]
  },
  {
   "cell_type": "code",
   "execution_count": 11,
   "metadata": {},
   "outputs": [
    {
     "name": "stdout",
     "output_type": "stream",
     "text": [
      "[50.72796871]\n",
      "1896.3148980752912\n"
     ]
    }
   ],
   "source": [
    "print(reg2.coef_)\n",
    "print(reg2.intercept_)"
   ]
  },
  {
   "cell_type": "code",
   "execution_count": 12,
   "metadata": {},
   "outputs": [
    {
     "data": {
      "text/plain": [
       "0.7792540718965909"
      ]
     },
     "execution_count": 12,
     "metadata": {},
     "output_type": "execute_result"
    }
   ],
   "source": [
    "task3_X = vals.drop([6], axis = 1)\n",
    "reg3 = LinearRegression()\n",
    "reg3.fit(task3_X, y)\n",
    "reg3.score(task3_X, y)"
   ]
  },
  {
   "cell_type": "code",
   "execution_count": 13,
   "metadata": {},
   "outputs": [
    {
     "name": "stdout",
     "output_type": "stream",
     "text": [
      "[4.96983398e+01 4.88342388e-02 5.76799996e+00 9.04581380e+00\n",
      " 3.35553993e+00]\n",
      "69.19340302874616\n"
     ]
    }
   ],
   "source": [
    "print(reg3.coef_)\n",
    "print(reg3.intercept_)"
   ]
  },
  {
   "cell_type": "markdown",
   "metadata": {},
   "source": [
    "# Task 2"
   ]
  },
  {
   "cell_type": "code",
   "execution_count": 14,
   "metadata": {},
   "outputs": [
    {
     "data": {
      "image/png": "[encoded data removed]",
      "text/plain": [
       "<Figure size 720x360 with 1 Axes>"
      ]
     },
     "metadata": {
      "needs_background": "light"
     },
     "output_type": "display_data"
    }
   ],
   "source": [
    "vals = pd.read_csv(\"20.csv\", header=None)\n",
    "vals = vals.rename(columns={0:1, 1:2, 2:3, 3:4, 4:5, 5:6})\n",
    "vals = vals[vals[1] > -20]\n",
    "plt.figure(figsize=(10, 5))\n",
    "plt.scatter(vals[1],vals[6])\n",
    "plt.xlabel(\"X\")\n",
    "plt.ylabel(\"y\")\n",
    "plt.show()"
   ]
  },
  {
   "cell_type": "markdown",
   "metadata": {},
   "source": [
    "A simple visual examination of the data points plotted witht he target, we notice that there seems to be a pattern between X1 and target variable"
   ]
  },
  {
   "cell_type": "markdown",
   "metadata": {},
   "source": [
    "## Task 2.1"
   ]
  },
  {
   "cell_type": "code",
   "execution_count": 15,
   "metadata": {},
   "outputs": [
    {
     "name": "stdout",
     "output_type": "stream",
     "text": [
      "Simple linear regression -> Y = 1896.3 + 50.728X\n",
      "Y = B0 + B1*X\n"
     ]
    }
   ],
   "source": [
    "X = vals[1].values.reshape(-1,1)\n",
    "y = vals[6].values.reshape(-1,1)\n",
    "reg = LinearRegression()\n",
    "reg.fit(X, y)\n",
    "print(\"Simple linear regression -> Y = {:.5} + {:.5}X\".format(reg.intercept_[0], reg.coef_[0][0]))\n",
    "print(\"Y = B0 + B1*X\")"
   ]
  },
  {
   "cell_type": "markdown",
   "metadata": {},
   "source": [
    "## Task 2.2"
   ]
  },
  {
   "cell_type": "code",
   "execution_count": 16,
   "metadata": {},
   "outputs": [
    {
     "name": "stdout",
     "output_type": "stream",
     "text": [
      "sigma squared is  61273948.96593246\n"
     ]
    }
   ],
   "source": [
    "X2 = sm.add_constant(X)\n",
    "estimate = sm.OLS(y, X2)\n",
    "estimate_2 = estimate.fit()\n",
    "res = estimate_2.resid\n",
    "sigma_2 = 0\n",
    "for i in res:\n",
    "    sigma_2 += i**2\n",
    "\n",
    "print(\"sigma squared is \", sigma_2)"
   ]
  },
  {
   "cell_type": "code",
   "execution_count": 17,
   "metadata": {},
   "outputs": [
    {
     "name": "stdout",
     "output_type": "stream",
     "text": [
      "                            OLS Regression Results                            \n",
      "==============================================================================\n",
      "Dep. Variable:                      y   R-squared:                       0.743\n",
      "Model:                            OLS   Adj. R-squared:                  0.742\n",
      "Method:                 Least Squares   F-statistic:                     851.9\n",
      "Date:                Wed, 07 Oct 2020   Prob (F-statistic):           5.64e-89\n",
      "Time:                        23:34:00   Log-Likelihood:                -2238.6\n",
      "No. Observations:                 297   AIC:                             4481.\n",
      "Df Residuals:                     295   BIC:                             4489.\n",
      "Df Model:                           1                                         \n",
      "Covariance Type:            nonrobust                                         \n",
      "==============================================================================\n",
      "                 coef    std err          t      P>|t|      [0.025      0.975]\n",
      "------------------------------------------------------------------------------\n",
      "const       1896.3149     39.699     47.767      0.000    1818.185    1974.444\n",
      "x1            50.7280      1.738     29.187      0.000      47.307      54.149\n",
      "==============================================================================\n",
      "Omnibus:                       85.059   Durbin-Watson:                   2.128\n",
      "Prob(Omnibus):                  0.000   Jarque-Bera (JB):              181.230\n",
      "Skew:                           1.442   Prob(JB):                     4.43e-40\n",
      "Kurtosis:                       5.515   Cond. No.                         34.3\n",
      "==============================================================================\n",
      "\n",
      "Warnings:\n",
      "[1] Standard Errors assume that the covariance matrix of the errors is correctly specified.\n"
     ]
    }
   ],
   "source": [
    "print(estimate_2.summary())"
   ]
  },
  {
   "cell_type": "markdown",
   "metadata": {},
   "source": [
    "#### p-value\n",
    "\n",
    "The p-value that has been calculated for X1 shows us if the value is statistically significant or not with regards to it being a feature vector to predict \"y\"\n",
    "We could say that the closer the value of p is to 0, greater is the relationship with the target variable \"y\"\n",
    "\n",
    "#### R squared value\n",
    "\n",
    "The r squared value depicts the variability of the feature vector with the target. The closer the R squared value is to 1, the better the feature is in predicting the target variable \"y\". In this case, the R squared value is 0.6 which means that about sixty percent of the variability is explained by the first feature vector.\n",
    "\n",
    "#### F statistic\n",
    "\n",
    "F statistic is mainly used in calculating the performance of the model as a whole and not just a feature vector. So in this case where there is only one feature vector, we could say it is of little use. Here the f statistic value needs to be very far from 1. ie. way larger than 1. If thats the case, we could say there is a good relationship between the feature vectors."
   ]
  },
  {
   "cell_type": "code",
   "execution_count": 18,
   "metadata": {},
   "outputs": [
    {
     "data": {
      "text/plain": [
       "(array([23., 84., 87., 48., 25., 11.,  9.,  4.,  3.,  3.]),\n",
       " array([-735.68071122, -473.96872417, -212.25673711,   49.45524995,\n",
       "         311.167237  ,  572.87922406,  834.59121112, 1096.30319818,\n",
       "        1358.01518523, 1619.72717229, 1881.43915935]),\n",
       " <a list of 10 Patch objects>)"
      ]
     },
     "execution_count": 18,
     "metadata": {},
     "output_type": "execute_result"
    },
    {
     "data": {
      "image/png": "[encoded data removed]",
      "text/plain": [
       "<Figure size 1440x720 with 2 Axes>"
      ]
     },
     "metadata": {
      "needs_background": "light"
     },
     "output_type": "display_data"
    }
   ],
   "source": [
    "res = estimate_2.resid\n",
    "fig = plt.figure(figsize=(20,10))\n",
    "rv = chi2(1000)\n",
    "a, b = zip(*sorted(zip(res, rv.pdf(res))))\n",
    "plt.subplot(221)\n",
    "plt.plot(a, b, 'k-', lw=2, label='frozen pdf')\n",
    "plt.subplot(222)\n",
    "plt.hist(res)"
   ]
  },
  {
   "cell_type": "markdown",
   "metadata": {},
   "source": [
    "We notice that the above plot follows somewhat a normal distribution.\n",
    "Drawn are the residuals histogram and χ2 test that follows the normal distribution N(0,s2). Which makes us conclude that it does pass the chi-squared test hypothesis."
   ]
  },
  {
   "cell_type": "code",
   "execution_count": 19,
   "metadata": {},
   "outputs": [
    {
     "data": {
      "image/png": "[encoded data removed]",
      "text/plain": [
       "<Figure size 432x288 with 1 Axes>"
      ]
     },
     "metadata": {
      "needs_background": "light"
     },
     "output_type": "display_data"
    }
   ],
   "source": [
    "res = estimate_2.resid\n",
    "fig = sm.qqplot(res, line=\"s\")\n",
    "plt.show()"
   ]
  },
  {
   "cell_type": "markdown",
   "metadata": {},
   "source": [
    "The Q-Q plot is used for checking the distribution of a data sample. When a diagonal line is drawn, the data points plotted must pass through the red line. The data point in the sample is paired with a similar member from the distribution."
   ]
  },
  {
   "cell_type": "code",
   "execution_count": 20,
   "metadata": {},
   "outputs": [
    {
     "data": {
      "text/plain": [
       "<matplotlib.collections.PathCollection at 0x7ff4b99739a0>"
      ]
     },
     "execution_count": 20,
     "metadata": {},
     "output_type": "execute_result"
    },
    {
     "data": {
      "image/png": "[encoded data removed]",
      "text/plain": [
       "<Figure size 432x288 with 1 Axes>"
      ]
     },
     "metadata": {
      "needs_background": "light"
     },
     "output_type": "display_data"
    }
   ],
   "source": [
    "plt.scatter(res, y)"
   ]
  },
  {
   "cell_type": "markdown",
   "metadata": {},
   "source": [
    "Above is a plot of residuals with the actual target variable. We notice that there is an unequal distribution of the residual values in the positive and negtive halves making the simple linear regression a bad model for this dataset.\n",
    "\n",
    "Now when we look at polynomial regression, we notice a big difference"
   ]
  },
  {
   "cell_type": "markdown",
   "metadata": {},
   "source": [
    "## Task 2.3"
   ]
  },
  {
   "cell_type": "code",
   "execution_count": 21,
   "metadata": {},
   "outputs": [
    {
     "data": {
      "image/png": "[encoded data removed]",
      "text/plain": [
       "<Figure size 720x360 with 1 Axes>"
      ]
     },
     "metadata": {
      "needs_background": "light"
     },
     "output_type": "display_data"
    }
   ],
   "source": [
    "pred = reg.predict(X)\n",
    "plt.figure(figsize=(10, 5))\n",
    "plt.scatter(vals[1],vals[6],c='orange')\n",
    "plt.plot(vals[1],pred)\n",
    "plt.xlabel(\"X\")\n",
    "plt.ylabel(\"y\")\n",
    "plt.show()"
   ]
  },
  {
   "cell_type": "markdown",
   "metadata": {},
   "source": [
    "## Task 2.7"
   ]
  },
  {
   "cell_type": "code",
   "execution_count": 22,
   "metadata": {},
   "outputs": [
    {
     "name": "stdout",
     "output_type": "stream",
     "text": [
      "0.9567369837358992\n"
     ]
    },
    {
     "data": {
      "image/png": "[encoded data removed]",
      "text/plain": [
       "<Figure size 432x288 with 1 Axes>"
      ]
     },
     "metadata": {
      "needs_background": "light"
     },
     "output_type": "display_data"
    }
   ],
   "source": [
    "polynomial_features= PolynomialFeatures(degree=2)\n",
    "x_poly = polynomial_features.fit_transform(X)\n",
    "model = LinearRegression()\n",
    "\n",
    "model.fit(x_poly, y)\n",
    "y_poly_pred = model.predict(x_poly)\n",
    "\n",
    "rmse = np.sqrt(mean_squared_error(y,y_poly_pred))\n",
    "r2 = r2_score(y,y_poly_pred)\n",
    "print(r2)\n",
    "\n",
    "plt.scatter(X, y)\n",
    "sorted_zip = sorted(zip(X,y_poly_pred))\n",
    "X_new, y_poly_pred = zip(*sorted_zip)\n",
    "plt.plot(X_new, y_poly_pred)\n",
    "plt.show()"
   ]
  },
  {
   "cell_type": "markdown",
   "metadata": {},
   "source": [
    "## Task 2.8"
   ]
  },
  {
   "cell_type": "markdown",
   "metadata": {},
   "source": [
    "Now when using polynomial regression, we notice that the r2 value is almost 96%. This shows that there is a really high relation between the feature vector and the target variable. The same is understood from the above visualization. For this dataset, we can say for sure that polynomial regression does much better in comparison to a simple linear regression model.\n",
    "\n",
    "When we had fit the simple linear regression model, we noticed that most of the predictions were not close to the line and we had a very high mean squared error. Upon increasing the dimentionality with polynomial regression, the mse value dropped drastically making it a better evaluation metric."
   ]
  },
  {
   "cell_type": "markdown",
   "metadata": {},
   "source": [
    "## Task 3\n",
    "### Task 3.1\n",
    "\n",
    "Explained below are the initial trials before processing the data and making the prediction better"
   ]
  },
  {
   "cell_type": "code",
   "execution_count": 23,
   "metadata": {},
   "outputs": [
    {
     "name": "stdout",
     "output_type": "stream",
     "text": [
      "The linear model is: Y = 1.3642e-12 + 1.9864e-14*X1 + -1.8276e-14*X2 + 1.8945e-15*X3 + 8.1363e-16*X4 + -3.1053e-16*X5\n"
     ]
    }
   ],
   "source": [
    "data = pd.read_csv(\"20.csv\", header=None)\n",
    "data = data.rename(columns={0:1, 1:2, 2:3, 3:4, 4:5, 5:6})\n",
    "y = np.array(data[6]).reshape(-1,1)\n",
    "reg1 = LinearRegression()\n",
    "reg1.fit(data, y)\n",
    "print(\"The linear model is: Y = {:.5} + {:.5}*X1 + {:.5}*X2 + {:.5}*X3 + {:.5}*X4 + {:.5}*X5\".format(reg1.intercept_[0], reg1.coef_[0][0], reg1.coef_[0][1], reg1.coef_[0][2], reg1.coef_[0][3], reg1.coef_[0][4]))"
   ]
  },
  {
   "cell_type": "code",
   "execution_count": 24,
   "metadata": {},
   "outputs": [
    {
     "name": "stdout",
     "output_type": "stream",
     "text": [
      "                            OLS Regression Results                            \n",
      "==============================================================================\n",
      "Dep. Variable:                      y   R-squared:                       0.641\n",
      "Model:                            OLS   Adj. R-squared:                  0.635\n",
      "Method:                 Least Squares   F-statistic:                     105.1\n",
      "Date:                Wed, 07 Oct 2020   Prob (F-statistic):           2.50e-63\n",
      "Time:                        23:34:01   Log-Likelihood:                -2313.2\n",
      "No. Observations:                 300   AIC:                             4638.\n",
      "Df Residuals:                     294   BIC:                             4661.\n",
      "Df Model:                           5                                         \n",
      "Covariance Type:            nonrobust                                         \n",
      "==============================================================================\n",
      "                 coef    std err          t      P>|t|      [0.025      0.975]\n",
      "------------------------------------------------------------------------------\n",
      "const        112.7487    394.953      0.285      0.775    -664.545     890.043\n",
      "x1            42.8744      1.995     21.488      0.000      38.948      46.801\n",
      "x2            -0.0828      2.096     -0.039      0.969      -4.207       4.042\n",
      "x3             7.9133      2.230      3.549      0.000       3.525      12.301\n",
      "x4             7.2239      2.064      3.499      0.001       3.161      11.287\n",
      "x5             4.1699      2.189      1.905      0.058      -0.139       8.479\n",
      "==============================================================================\n",
      "Omnibus:                      285.792   Durbin-Watson:                   2.046\n",
      "Prob(Omnibus):                  0.000   Jarque-Bera (JB):             9233.678\n",
      "Skew:                           3.844   Prob(JB):                         0.00\n",
      "Kurtosis:                      29.069   Cond. No.                     2.37e+03\n",
      "==============================================================================\n",
      "\n",
      "Warnings:\n",
      "[1] Standard Errors assume that the covariance matrix of the errors is correctly specified.\n",
      "[2] The condition number is large, 2.37e+03. This might indicate that there are\n",
      "strong multicollinearity or other numerical problems.\n"
     ]
    }
   ],
   "source": [
    "X = np.column_stack((data[1], data[2], data[3], data[4], data[5]))\n",
    "X2 = sm.add_constant(X)\n",
    "est = sm.OLS(y, X2)\n",
    "est2 = est.fit()\n",
    "print(est2.summary())"
   ]
  },
  {
   "cell_type": "code",
   "execution_count": 25,
   "metadata": {},
   "outputs": [
    {
     "data": {
      "image/png": "[encoded data removed]",
      "text/plain": [
       "<Figure size 432x288 with 1 Axes>"
      ]
     },
     "metadata": {
      "needs_background": "light"
     },
     "output_type": "display_data"
    },
    {
     "data": {
      "image/png": "[encoded data removed]",
      "text/plain": [
       "<Figure size 432x288 with 1 Axes>"
      ]
     },
     "metadata": {
      "needs_background": "light"
     },
     "output_type": "display_data"
    },
    {
     "data": {
      "image/png": "[encoded data removed]",
      "text/plain": [
       "<Figure size 432x288 with 1 Axes>"
      ]
     },
     "metadata": {
      "needs_background": "light"
     },
     "output_type": "display_data"
    },
    {
     "data": {
      "image/png": "[encoded data removed]",
      "text/plain": [
       "<Figure size 432x288 with 1 Axes>"
      ]
     },
     "metadata": {
      "needs_background": "light"
     },
     "output_type": "display_data"
    },
    {
     "data": {
      "image/png": "[encoded data removed]",
      "text/plain": [
       "<Figure size 432x288 with 1 Axes>"
      ]
     },
     "metadata": {
      "needs_background": "light"
     },
     "output_type": "display_data"
    }
   ],
   "source": [
    "for i in range(1,6):\n",
    "    sns.boxplot(x=data[i])\n",
    "    plt.show()"
   ]
  },
  {
   "cell_type": "markdown",
   "metadata": {},
   "source": [
    "From the above box plots we can detect the outliers and remove them. all the values that fall beyond the quantiles are removed and the statistical values are rechecked.\n",
    "\n",
    "We see that there is a change in the new values and they have been explained below"
   ]
  },
  {
   "cell_type": "code",
   "execution_count": 26,
   "metadata": {},
   "outputs": [],
   "source": [
    "data = data[data[1] > -20]\n",
    "data = data[data[2] > 10]\n",
    "data = data[data[3] > 60]\n",
    "data = data[data[3] < 120]\n",
    "data = data[data[5] > 100]\n",
    "data = data[data[5] < 150]\n",
    "y = np.array(data[6]).reshape(-1,1)\n",
    "for_corr = data\n",
    "data = data.drop([6], axis=1)\n"
   ]
  },
  {
   "cell_type": "code",
   "execution_count": 27,
   "metadata": {},
   "outputs": [
    {
     "name": "stdout",
     "output_type": "stream",
     "text": [
      "                            OLS Regression Results                            \n",
      "==============================================================================\n",
      "Dep. Variable:                      y   R-squared:                       0.776\n",
      "Model:                            OLS   Adj. R-squared:                  0.772\n",
      "Method:                 Least Squares   F-statistic:                     173.7\n",
      "Date:                Wed, 07 Oct 2020   Prob (F-statistic):           3.46e-79\n",
      "Time:                        23:34:01   Log-Likelihood:                -1900.9\n",
      "No. Observations:                 256   AIC:                             3814.\n",
      "Df Residuals:                     250   BIC:                             3835.\n",
      "Df Model:                           5                                         \n",
      "Covariance Type:            nonrobust                                         \n",
      "==============================================================================\n",
      "                 coef    std err          t      P>|t|      [0.025      0.975]\n",
      "------------------------------------------------------------------------------\n",
      "const       -301.8680    380.021     -0.794      0.428   -1050.319     446.583\n",
      "x1            48.7365      1.737     28.054      0.000      45.315      52.158\n",
      "x2             0.1299      1.809      0.072      0.943      -3.434       3.694\n",
      "x3             6.6768      2.032      3.286      0.001       2.675      10.679\n",
      "x4             9.0497      1.684      5.374      0.000       5.733      12.366\n",
      "x5             5.7109      2.263      2.524      0.012       1.254      10.168\n",
      "==============================================================================\n",
      "Omnibus:                      104.954   Durbin-Watson:                   2.071\n",
      "Prob(Omnibus):                  0.000   Jarque-Bera (JB):              308.864\n",
      "Skew:                           1.856   Prob(JB):                     8.53e-68\n",
      "Kurtosis:                       6.895   Cond. No.                     2.79e+03\n",
      "==============================================================================\n",
      "\n",
      "Warnings:\n",
      "[1] Standard Errors assume that the covariance matrix of the errors is correctly specified.\n",
      "[2] The condition number is large, 2.79e+03. This might indicate that there are\n",
      "strong multicollinearity or other numerical problems.\n"
     ]
    }
   ],
   "source": [
    "X = np.column_stack((data[1], data[2], data[3], data[4], data[5]))\n",
    "X2 = sm.add_constant(X)\n",
    "est = sm.OLS(y, X2)\n",
    "est2 = est.fit()\n",
    "print(est2.summary())"
   ]
  },
  {
   "cell_type": "markdown",
   "metadata": {},
   "source": [
    "After the removal of column 2 we notice a slight increase in Adj R-squared value"
   ]
  },
  {
   "cell_type": "code",
   "execution_count": 28,
   "metadata": {},
   "outputs": [],
   "source": [
    "X = np.column_stack((data[1], data[3], data[4], data[5]))\n",
    "X2 = sm.add_constant(X)\n",
    "est = sm.OLS(y, X2)\n",
    "est2 = est.fit()\n",
    "sigma_squared = 0\n",
    "for z in est2.resid:\n",
    "    sigma_squared += z**2"
   ]
  },
  {
   "cell_type": "markdown",
   "metadata": {},
   "source": [
    "## Task 3.2"
   ]
  },
  {
   "cell_type": "code",
   "execution_count": 29,
   "metadata": {},
   "outputs": [
    {
     "name": "stdout",
     "output_type": "stream",
     "text": [
      "The linear model is: Y = -297.26 + 48.743*X1 + 6.678*X3 + 9.0542*X4 + 5.7126*X5\n",
      "Y = a0 + a1X1 + a3X3 + a4X4 + a5X5\n",
      "Sigma squared is 42222462.93517245\n"
     ]
    }
   ],
   "source": [
    "reg2 = LinearRegression()\n",
    "data = data.drop([2], axis=1)\n",
    "reg2.fit(data, y)\n",
    "print(\"The linear model is: Y = {:.5} + {:.5}*X1 + {:.5}*X3 + {:.5}*X4 + {:.5}*X5\".format(reg2.intercept_[0], reg2.coef_[0][0], reg2.coef_[0][1], reg2.coef_[0][2], reg2.coef_[0][3]))\n",
    "\n",
    "print(\"Y = a0 + a1X1 + a3X3 + a4X4 + a5X5\")\n",
    "\n",
    "print(\"Sigma squared is\", sigma_squared)\n"
   ]
  },
  {
   "cell_type": "code",
   "execution_count": 30,
   "metadata": {},
   "outputs": [
    {
     "name": "stdout",
     "output_type": "stream",
     "text": [
      "                            OLS Regression Results                            \n",
      "==============================================================================\n",
      "Dep. Variable:                      y   R-squared:                       0.776\n",
      "Model:                            OLS   Adj. R-squared:                  0.773\n",
      "Method:                 Least Squares   F-statistic:                     217.9\n",
      "Date:                Wed, 07 Oct 2020   Prob (F-statistic):           2.20e-80\n",
      "Time:                        23:34:01   Log-Likelihood:                -1900.9\n",
      "No. Observations:                 256   AIC:                             3812.\n",
      "Df Residuals:                     251   BIC:                             3830.\n",
      "Df Model:                           4                                         \n",
      "Covariance Type:            nonrobust                                         \n",
      "==============================================================================\n",
      "                 coef    std err          t      P>|t|      [0.025      0.975]\n",
      "------------------------------------------------------------------------------\n",
      "const       -297.2605    373.823     -0.795      0.427   -1033.489     438.968\n",
      "x1            48.7430      1.731     28.152      0.000      45.333      52.153\n",
      "x2             6.6780      2.028      3.293      0.001       2.684      10.672\n",
      "x3             9.0542      1.680      5.391      0.000       5.746      12.362\n",
      "x4             5.7126      2.258      2.529      0.012       1.265      10.160\n",
      "==============================================================================\n",
      "Omnibus:                      104.817   Durbin-Watson:                   2.070\n",
      "Prob(Omnibus):                  0.000   Jarque-Bera (JB):              308.278\n",
      "Skew:                           1.854   Prob(JB):                     1.14e-67\n",
      "Kurtosis:                       6.893   Cond. No.                     2.68e+03\n",
      "==============================================================================\n",
      "\n",
      "Warnings:\n",
      "[1] Standard Errors assume that the covariance matrix of the errors is correctly specified.\n",
      "[2] The condition number is large, 2.68e+03. This might indicate that there are\n",
      "strong multicollinearity or other numerical problems.\n"
     ]
    }
   ],
   "source": [
    "print(est2.summary())"
   ]
  },
  {
   "cell_type": "code",
   "execution_count": 31,
   "metadata": {},
   "outputs": [
    {
     "data": {
      "text/html": [
       "<div>\n",
       "<style scoped>\n",
       "    .dataframe tbody tr th:only-of-type {\n",
       "        vertical-align: middle;\n",
       "    }\n",
       "\n",
       "    .dataframe tbody tr th {\n",
       "        vertical-align: top;\n",
       "    }\n",
       "\n",
       "    .dataframe thead th {\n",
       "        text-align: right;\n",
       "    }\n",
       "</style>\n",
       "<table border=\"1\" class=\"dataframe\">\n",
       "  <thead>\n",
       "    <tr style=\"text-align: right;\">\n",
       "      <th></th>\n",
       "      <th>1</th>\n",
       "      <th>2</th>\n",
       "      <th>3</th>\n",
       "      <th>4</th>\n",
       "      <th>5</th>\n",
       "      <th>6</th>\n",
       "    </tr>\n",
       "  </thead>\n",
       "  <tbody>\n",
       "    <tr>\n",
       "      <th>1</th>\n",
       "      <td>1.000000</td>\n",
       "      <td>0.052882</td>\n",
       "      <td>0.132088</td>\n",
       "      <td>-0.010312</td>\n",
       "      <td>-0.026760</td>\n",
       "      <td>0.857394</td>\n",
       "    </tr>\n",
       "    <tr>\n",
       "      <th>2</th>\n",
       "      <td>0.052882</td>\n",
       "      <td>1.000000</td>\n",
       "      <td>0.015824</td>\n",
       "      <td>0.036692</td>\n",
       "      <td>0.008702</td>\n",
       "      <td>0.055115</td>\n",
       "    </tr>\n",
       "    <tr>\n",
       "      <th>3</th>\n",
       "      <td>0.132088</td>\n",
       "      <td>0.015824</td>\n",
       "      <td>1.000000</td>\n",
       "      <td>-0.000037</td>\n",
       "      <td>0.006990</td>\n",
       "      <td>0.211680</td>\n",
       "    </tr>\n",
       "    <tr>\n",
       "      <th>4</th>\n",
       "      <td>-0.010312</td>\n",
       "      <td>0.036692</td>\n",
       "      <td>-0.000037</td>\n",
       "      <td>1.000000</td>\n",
       "      <td>-0.005136</td>\n",
       "      <td>0.151762</td>\n",
       "    </tr>\n",
       "    <tr>\n",
       "      <th>5</th>\n",
       "      <td>-0.026760</td>\n",
       "      <td>0.008702</td>\n",
       "      <td>0.006990</td>\n",
       "      <td>-0.005136</td>\n",
       "      <td>1.000000</td>\n",
       "      <td>0.052699</td>\n",
       "    </tr>\n",
       "    <tr>\n",
       "      <th>6</th>\n",
       "      <td>0.857394</td>\n",
       "      <td>0.055115</td>\n",
       "      <td>0.211680</td>\n",
       "      <td>0.151762</td>\n",
       "      <td>0.052699</td>\n",
       "      <td>1.000000</td>\n",
       "    </tr>\n",
       "  </tbody>\n",
       "</table>\n",
       "</div>"
      ],
      "text/plain": [
       "          1         2         3         4         5         6\n",
       "1  1.000000  0.052882  0.132088 -0.010312 -0.026760  0.857394\n",
       "2  0.052882  1.000000  0.015824  0.036692  0.008702  0.055115\n",
       "3  0.132088  0.015824  1.000000 -0.000037  0.006990  0.211680\n",
       "4 -0.010312  0.036692 -0.000037  1.000000 -0.005136  0.151762\n",
       "5 -0.026760  0.008702  0.006990 -0.005136  1.000000  0.052699\n",
       "6  0.857394  0.055115  0.211680  0.151762  0.052699  1.000000"
      ]
     },
     "execution_count": 31,
     "metadata": {},
     "output_type": "execute_result"
    }
   ],
   "source": [
    "for_corr.corr()"
   ]
  },
  {
   "cell_type": "markdown",
   "metadata": {},
   "source": [
    "p-value\n",
    "\n",
    "The p-value that has been calculated for X1-X5 shows us if the value is statistically significant or not with regards to it being a feature vector to predict \"y\" We could say that the closer the value of p is to 0, greater is the relationship with the target variable \"y\"\n",
    "\n",
    "From the First summary table we notice that the p value of X2 is very high and not close to 0, hence we decided\n",
    "to remove the feature and see how the R-squared value changes.\n",
    "\n",
    "As expected, there was a marginal increase in the Adj R-squared value making the predictor better.\n",
    "\n",
    "R-squared value\n",
    "\n",
    "The r squared value depicts the variability of the feature vector with the target. The closer the R squared value is to 1, the better the feature is in predicting the target variable \"y\". In this case, the R squared value is 0.78 which means that about seventy eight percent of the variability is explained by the selected feature vectors.\n",
    "\n",
    "\n",
    "F statistic\n",
    "\n",
    "F statistic is mainly used in calculating the performance of the model as a whole and not just a feature vector just as this case. Here the f statistic value needs to be very far from 1. ie. way larger than 1. If thats the case, we could say there is a good relationship between the feature vectors.\n",
    "Here, we have the F value to be 217.9 which is much greater than 1 making the selected features good\n",
    "\n",
    "From the correlation matrix\n",
    "\n",
    "Our exact conclusions about the ideal feature vectors has been derived from the obtained. We notice that the feature vector X2 is far from 1.0 making it a bad feature. As previously removed based on the p value, the correlation matrix also states the same.\n",
    "\n",
    "## Task 3.3"
   ]
  },
  {
   "cell_type": "code",
   "execution_count": 32,
   "metadata": {},
   "outputs": [
    {
     "data": {
      "image/png": "[encoded data removed]",
      "text/plain": [
       "<Figure size 432x288 with 1 Axes>"
      ]
     },
     "metadata": {
      "needs_background": "light"
     },
     "output_type": "display_data"
    }
   ],
   "source": [
    "residuals = est2.resid\n",
    "fig = sm.qqplot(residuals, line = \"s\")\n",
    "plt.show()"
   ]
  },
  {
   "cell_type": "markdown",
   "metadata": {},
   "source": [
    "From the above Q-Q plot, we notice that with so many feature vectors, the model tends to over estimate and inturn makes it worse. If we draw the red line, we notice that the data points plotted stray away from the line making it not an ideal dataset"
   ]
  },
  {
   "cell_type": "code",
   "execution_count": 33,
   "metadata": {},
   "outputs": [
    {
     "data": {
      "text/plain": [
       "[<matplotlib.lines.Line2D at 0x7ff4b9b0cfd0>]"
      ]
     },
     "execution_count": 33,
     "metadata": {},
     "output_type": "execute_result"
    },
    {
     "data": {
      "image/png": "[encoded data removed]",
      "text/plain": [
       "<Figure size 1440x720 with 2 Axes>"
      ]
     },
     "metadata": {
      "needs_background": "light"
     },
     "output_type": "display_data"
    }
   ],
   "source": [
    "fig = plt.figure(figsize=(20,10))\n",
    "\n",
    "plt.subplot(221)\n",
    "rv = chi2(1000)\n",
    "a, b = zip(*sorted(zip(residuals, rv.pdf(residuals))))\n",
    "plt.hist(residuals)\n",
    "plt.xlim(-500,2000)\n",
    "plt.subplot(222)\n",
    "plt.plot(a, b, 'k-', lw=2, label='frozen pdf')"
   ]
  },
  {
   "cell_type": "markdown",
   "metadata": {},
   "source": [
    "In addition, residuals histogram has been displayed and a χ2 test that it follows the normal distribution N(0,s2) we notice that the test seems to fail as the histogram values do not follow a normal distribution similar to the second plot. "
   ]
  },
  {
   "cell_type": "code",
   "execution_count": 34,
   "metadata": {},
   "outputs": [
    {
     "data": {
      "text/plain": [
       "<matplotlib.collections.PathCollection at 0x7ff4b99dab80>"
      ]
     },
     "execution_count": 34,
     "metadata": {},
     "output_type": "execute_result"
    },
    {
     "data": {
      "image/png": "[encoded data removed]",
      "text/plain": [
       "<Figure size 432x288 with 1 Axes>"
      ]
     },
     "metadata": {
      "needs_background": "light"
     },
     "output_type": "display_data"
    }
   ],
   "source": [
    "plt.scatter(residuals, y)"
   ]
  },
  {
   "cell_type": "markdown",
   "metadata": {},
   "source": [
    "From the scatter plot we notice that there is an uneven distribution of values in the positive and negative halves. This shows that the given data set may not be idea when it comes to linear regression. However, from Task 2 we notice that polynomial regression works really well."
   ]
  },
  {
   "cell_type": "markdown",
   "metadata": {},
   "source": [
    "## Task 3.4\n",
    "__All comments have been added below each plot for easier visual explanation and understanding instead of compiling them in the bottom.__"
   ]
  },
  {
   "cell_type": "markdown",
   "metadata": {},
   "source": [
    "## Conclusion\n",
    "\n",
    "We notice tha for the given dataset, the behaviour tends to be the best when having a polynomial regression model. However, we also notive that with regards to Linear regression, when the p-value, f-value, correlation matrices and R-squared values are factored in while data selection, a much better model will be created. Thus we can say that for any model that is being generated, such statistical tests are essential before running the predictions."
   ]
  },
  {
   "cell_type": "markdown",
   "metadata": {},
   "source": [
    "Ref: \n",
    "\n",
    "https://machinelearningmastery.com/a-gentle-introduction-to-normality-tests-in-python/\n",
    "\n",
    "https://towardsdatascience.com/polynomial-regression-bbe8b9d97491\n",
    "\n",
    "https://towardsdatascience.com/the-complete-guide-to-linear-regression-in-python-3d3f8f06bf8\n",
    "\n",
    "https://scikit-learn.org/stable/modules/generated/sklearn.linear_model.LinearRegression.html"
   ]
  }
 ],
 "metadata": {
  "kernelspec": {
   "display_name": "Python 3",
   "language": "python",
   "name": "python3"
  },
  "language_info": {
   "codemirror_mode": {
    "name": "ipython",
    "version": 3
   },
   "file_extension": ".py",
   "mimetype": "text/x-python",
   "name": "python",
   "nbconvert_exporter": "python",
   "pygments_lexer": "ipython3",
   "version": "3.8.3"
  }
 },
 "nbformat": 4,
 "nbformat_minor": 4
}
